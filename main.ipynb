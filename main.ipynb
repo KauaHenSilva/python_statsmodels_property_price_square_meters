{
 "cells": [
  {
   "cell_type": "code",
   "execution_count": 1,
   "metadata": {},
   "outputs": [],
   "source": [
    "import pandas as pd\n",
    "import statsmodels.api as sm\n",
    "import matplotlib.pyplot as plt"
   ]
  },
  {
   "cell_type": "markdown",
   "metadata": {},
   "source": [
    "### Adiquirindo dados"
   ]
  },
  {
   "cell_type": "markdown",
   "metadata": {},
   "source": [
    "Os dados foram adquiridos a partir de um arquivo CSV chamado dataset.csv. Utilizamos a biblioteca pandas para ler o arquivo e carregar os dados em um DataFrame. A seguir, apresentamos as primeiras linhas do DataFrame para visualização inicial dos dados:"
   ]
  },
  {
   "cell_type": "code",
   "execution_count": 2,
   "metadata": {},
   "outputs": [
    {
     "data": {
      "text/html": [
       "<div>\n",
       "<style scoped>\n",
       "    .dataframe tbody tr th:only-of-type {\n",
       "        vertical-align: middle;\n",
       "    }\n",
       "\n",
       "    .dataframe tbody tr th {\n",
       "        vertical-align: top;\n",
       "    }\n",
       "\n",
       "    .dataframe thead th {\n",
       "        text-align: right;\n",
       "    }\n",
       "</style>\n",
       "<table border=\"1\" class=\"dataframe\">\n",
       "  <thead>\n",
       "    <tr style=\"text-align: right;\">\n",
       "      <th></th>\n",
       "      <th>valor_aluguel</th>\n",
       "      <th>area_m2</th>\n",
       "      <th>ano_construcao</th>\n",
       "      <th>codigo_localidade</th>\n",
       "      <th>numero_banheiros</th>\n",
       "      <th>numero_cozinhas</th>\n",
       "      <th>codigo_bairro</th>\n",
       "    </tr>\n",
       "  </thead>\n",
       "  <tbody>\n",
       "    <tr>\n",
       "      <th>0</th>\n",
       "      <td>120.97436</td>\n",
       "      <td>35</td>\n",
       "      <td>1939</td>\n",
       "      <td>1</td>\n",
       "      <td>0</td>\n",
       "      <td>0</td>\n",
       "      <td>1112</td>\n",
       "    </tr>\n",
       "    <tr>\n",
       "      <th>1</th>\n",
       "      <td>436.97433</td>\n",
       "      <td>104</td>\n",
       "      <td>1939</td>\n",
       "      <td>1</td>\n",
       "      <td>1</td>\n",
       "      <td>0</td>\n",
       "      <td>1112</td>\n",
       "    </tr>\n",
       "    <tr>\n",
       "      <th>2</th>\n",
       "      <td>355.74360</td>\n",
       "      <td>29</td>\n",
       "      <td>1971</td>\n",
       "      <td>2</td>\n",
       "      <td>0</td>\n",
       "      <td>0</td>\n",
       "      <td>2114</td>\n",
       "    </tr>\n",
       "    <tr>\n",
       "      <th>3</th>\n",
       "      <td>282.92310</td>\n",
       "      <td>39</td>\n",
       "      <td>1972</td>\n",
       "      <td>2</td>\n",
       "      <td>0</td>\n",
       "      <td>0</td>\n",
       "      <td>2148</td>\n",
       "    </tr>\n",
       "    <tr>\n",
       "      <th>4</th>\n",
       "      <td>807.23080</td>\n",
       "      <td>97</td>\n",
       "      <td>1985</td>\n",
       "      <td>1</td>\n",
       "      <td>0</td>\n",
       "      <td>0</td>\n",
       "      <td>2222</td>\n",
       "    </tr>\n",
       "  </tbody>\n",
       "</table>\n",
       "</div>"
      ],
      "text/plain": [
       "   valor_aluguel  area_m2  ano_construcao  codigo_localidade  \\\n",
       "0      120.97436       35            1939                  1   \n",
       "1      436.97433      104            1939                  1   \n",
       "2      355.74360       29            1971                  2   \n",
       "3      282.92310       39            1972                  2   \n",
       "4      807.23080       97            1985                  1   \n",
       "\n",
       "   numero_banheiros  numero_cozinhas  codigo_bairro  \n",
       "0                 0                0           1112  \n",
       "1                 1                0           1112  \n",
       "2                 0                0           2114  \n",
       "3                 0                0           2148  \n",
       "4                 0                0           2222  "
      ]
     },
     "execution_count": 2,
     "metadata": {},
     "output_type": "execute_result"
    }
   ],
   "source": [
    "data = pd.read_csv(\"dataset.csv\")\n",
    "data.head()"
   ]
  },
  {
   "cell_type": "markdown",
   "metadata": {},
   "source": [
    "### Possivis correlações"
   ]
  },
  {
   "cell_type": "markdown",
   "metadata": {},
   "source": [
    "Neste notebook, vamos analisar o conjunto de dados dos valores de aluguel. Vamos tentar encontrar correlações entre as variáveis e o valor do aluguel."
   ]
  },
  {
   "cell_type": "code",
   "execution_count": 3,
   "metadata": {},
   "outputs": [
    {
     "data": {
      "text/html": [
       "<div>\n",
       "<style scoped>\n",
       "    .dataframe tbody tr th:only-of-type {\n",
       "        vertical-align: middle;\n",
       "    }\n",
       "\n",
       "    .dataframe tbody tr th {\n",
       "        vertical-align: top;\n",
       "    }\n",
       "\n",
       "    .dataframe thead th {\n",
       "        text-align: right;\n",
       "    }\n",
       "</style>\n",
       "<table border=\"1\" class=\"dataframe\">\n",
       "  <thead>\n",
       "    <tr style=\"text-align: right;\">\n",
       "      <th></th>\n",
       "      <th>valor_aluguel</th>\n",
       "      <th>area_m2</th>\n",
       "      <th>ano_construcao</th>\n",
       "      <th>codigo_localidade</th>\n",
       "      <th>numero_banheiros</th>\n",
       "      <th>numero_cozinhas</th>\n",
       "      <th>codigo_bairro</th>\n",
       "    </tr>\n",
       "  </thead>\n",
       "  <tbody>\n",
       "    <tr>\n",
       "      <th>valor_aluguel</th>\n",
       "      <td>1.000000</td>\n",
       "      <td>0.584878</td>\n",
       "      <td>0.139194</td>\n",
       "      <td>0.172368</td>\n",
       "      <td>0.250261</td>\n",
       "      <td>0.170707</td>\n",
       "      <td>-0.020846</td>\n",
       "    </tr>\n",
       "    <tr>\n",
       "      <th>area_m2</th>\n",
       "      <td>0.584878</td>\n",
       "      <td>1.000000</td>\n",
       "      <td>-0.226581</td>\n",
       "      <td>0.110046</td>\n",
       "      <td>0.226306</td>\n",
       "      <td>0.045716</td>\n",
       "      <td>-0.089050</td>\n",
       "    </tr>\n",
       "    <tr>\n",
       "      <th>ano_construcao</th>\n",
       "      <td>0.139194</td>\n",
       "      <td>-0.226581</td>\n",
       "      <td>1.000000</td>\n",
       "      <td>-0.152206</td>\n",
       "      <td>0.065824</td>\n",
       "      <td>0.109881</td>\n",
       "      <td>0.327983</td>\n",
       "    </tr>\n",
       "    <tr>\n",
       "      <th>codigo_localidade</th>\n",
       "      <td>0.172368</td>\n",
       "      <td>0.110046</td>\n",
       "      <td>-0.152206</td>\n",
       "      <td>1.000000</td>\n",
       "      <td>0.037858</td>\n",
       "      <td>-0.004774</td>\n",
       "      <td>-0.282528</td>\n",
       "    </tr>\n",
       "    <tr>\n",
       "      <th>numero_banheiros</th>\n",
       "      <td>0.250261</td>\n",
       "      <td>0.226306</td>\n",
       "      <td>0.065824</td>\n",
       "      <td>0.037858</td>\n",
       "      <td>1.000000</td>\n",
       "      <td>0.064216</td>\n",
       "      <td>0.043600</td>\n",
       "    </tr>\n",
       "    <tr>\n",
       "      <th>numero_cozinhas</th>\n",
       "      <td>0.170707</td>\n",
       "      <td>0.045716</td>\n",
       "      <td>0.109881</td>\n",
       "      <td>-0.004774</td>\n",
       "      <td>0.064216</td>\n",
       "      <td>1.000000</td>\n",
       "      <td>0.029495</td>\n",
       "    </tr>\n",
       "    <tr>\n",
       "      <th>codigo_bairro</th>\n",
       "      <td>-0.020846</td>\n",
       "      <td>-0.089050</td>\n",
       "      <td>0.327983</td>\n",
       "      <td>-0.282528</td>\n",
       "      <td>0.043600</td>\n",
       "      <td>0.029495</td>\n",
       "      <td>1.000000</td>\n",
       "    </tr>\n",
       "  </tbody>\n",
       "</table>\n",
       "</div>"
      ],
      "text/plain": [
       "                   valor_aluguel   area_m2  ano_construcao  codigo_localidade  \\\n",
       "valor_aluguel           1.000000  0.584878        0.139194           0.172368   \n",
       "area_m2                 0.584878  1.000000       -0.226581           0.110046   \n",
       "ano_construcao          0.139194 -0.226581        1.000000          -0.152206   \n",
       "codigo_localidade       0.172368  0.110046       -0.152206           1.000000   \n",
       "numero_banheiros        0.250261  0.226306        0.065824           0.037858   \n",
       "numero_cozinhas         0.170707  0.045716        0.109881          -0.004774   \n",
       "codigo_bairro          -0.020846 -0.089050        0.327983          -0.282528   \n",
       "\n",
       "                   numero_banheiros  numero_cozinhas  codigo_bairro  \n",
       "valor_aluguel              0.250261         0.170707      -0.020846  \n",
       "area_m2                    0.226306         0.045716      -0.089050  \n",
       "ano_construcao             0.065824         0.109881       0.327983  \n",
       "codigo_localidade          0.037858        -0.004774      -0.282528  \n",
       "numero_banheiros           1.000000         0.064216       0.043600  \n",
       "numero_cozinhas            0.064216         1.000000       0.029495  \n",
       "codigo_bairro              0.043600         0.029495       1.000000  "
      ]
     },
     "execution_count": 3,
     "metadata": {},
     "output_type": "execute_result"
    }
   ],
   "source": [
    "data.corr()"
   ]
  },
  {
   "cell_type": "markdown",
   "metadata": {},
   "source": [
    "### Treinamento"
   ]
  },
  {
   "cell_type": "markdown",
   "metadata": {},
   "source": [
    "Vamos treinar um modelo de regressão linear para prever o valor do aluguel com base nas variáveis disponíveis."
   ]
  },
  {
   "cell_type": "code",
   "execution_count": 4,
   "metadata": {},
   "outputs": [],
   "source": [
    "X, Y = data[\"area_m2\"], data[\"valor_aluguel\"]\n",
    "X = sm.add_constant(X)\n",
    "modelo = sm.OLS(Y, X)"
   ]
  },
  {
   "cell_type": "code",
   "execution_count": 5,
   "metadata": {},
   "outputs": [],
   "source": [
    "resultado = modelo.fit()"
   ]
  },
  {
   "cell_type": "markdown",
   "metadata": {},
   "source": [
    "### Resultado"
   ]
  },
  {
   "cell_type": "markdown",
   "metadata": {},
   "source": [
    "resultados de previsão de aluguel com base nas variáveis disponíveis. foi obtido um P>|t| de 0.0, o que indica que a variável é significativa para o modelo. porem foi obtido um R-squared de 0.342, o que indica que o modelo não é muito bom para prever o valor do aluguel com base nas variáveis disponíveis."
   ]
  },
  {
   "cell_type": "code",
   "execution_count": 6,
   "metadata": {},
   "outputs": [
    {
     "data": {
      "text/html": [
       "<table class=\"simpletable\">\n",
       "<caption>OLS Regression Results</caption>\n",
       "<tr>\n",
       "  <th>Dep. Variable:</th>      <td>valor_aluguel</td>  <th>  R-squared:         </th> <td>   0.342</td> \n",
       "</tr>\n",
       "<tr>\n",
       "  <th>Model:</th>                   <td>OLS</td>       <th>  Adj. R-squared:    </th> <td>   0.342</td> \n",
       "</tr>\n",
       "<tr>\n",
       "  <th>Method:</th>             <td>Least Squares</td>  <th>  F-statistic:       </th> <td>   1559.</td> \n",
       "</tr>\n",
       "<tr>\n",
       "  <th>Date:</th>             <td>Sat, 12 Oct 2024</td> <th>  Prob (F-statistic):</th> <td>6.84e-275</td>\n",
       "</tr>\n",
       "<tr>\n",
       "  <th>Time:</th>                 <td>22:26:33</td>     <th>  Log-Likelihood:    </th> <td> -19461.</td> \n",
       "</tr>\n",
       "<tr>\n",
       "  <th>No. Observations:</th>      <td>  3000</td>      <th>  AIC:               </th> <td>3.893e+04</td>\n",
       "</tr>\n",
       "<tr>\n",
       "  <th>Df Residuals:</th>          <td>  2998</td>      <th>  BIC:               </th> <td>3.894e+04</td>\n",
       "</tr>\n",
       "<tr>\n",
       "  <th>Df Model:</th>              <td>     1</td>      <th>                     </th>     <td> </td>    \n",
       "</tr>\n",
       "<tr>\n",
       "  <th>Covariance Type:</th>      <td>nonrobust</td>    <th>                     </th>     <td> </td>    \n",
       "</tr>\n",
       "</table>\n",
       "<table class=\"simpletable\">\n",
       "<tr>\n",
       "     <td></td>        <th>coef</th>     <th>std err</th>      <th>t</th>      <th>P>|t|</th>  <th>[0.025</th>    <th>0.975]</th>  \n",
       "</tr>\n",
       "<tr>\n",
       "  <th>const</th>   <td>  133.6988</td> <td>    8.750</td> <td>   15.279</td> <td> 0.000</td> <td>  116.541</td> <td>  150.856</td>\n",
       "</tr>\n",
       "<tr>\n",
       "  <th>area_m2</th> <td>    4.8386</td> <td>    0.123</td> <td>   39.482</td> <td> 0.000</td> <td>    4.598</td> <td>    5.079</td>\n",
       "</tr>\n",
       "</table>\n",
       "<table class=\"simpletable\">\n",
       "<tr>\n",
       "  <th>Omnibus:</th>       <td>206.173</td> <th>  Durbin-Watson:     </th> <td>   2.003</td>\n",
       "</tr>\n",
       "<tr>\n",
       "  <th>Prob(Omnibus):</th> <td> 0.000</td>  <th>  Jarque-Bera (JB):  </th> <td> 441.379</td>\n",
       "</tr>\n",
       "<tr>\n",
       "  <th>Skew:</th>          <td> 0.448</td>  <th>  Prob(JB):          </th> <td>1.43e-96</td>\n",
       "</tr>\n",
       "<tr>\n",
       "  <th>Kurtosis:</th>      <td> 4.651</td>  <th>  Cond. No.          </th> <td>    215.</td>\n",
       "</tr>\n",
       "</table><br/><br/>Notes:<br/>[1] Standard Errors assume that the covariance matrix of the errors is correctly specified."
      ],
      "text/latex": [
       "\\begin{center}\n",
       "\\begin{tabular}{lclc}\n",
       "\\toprule\n",
       "\\textbf{Dep. Variable:}    &  valor\\_aluguel  & \\textbf{  R-squared:         } &     0.342   \\\\\n",
       "\\textbf{Model:}            &       OLS        & \\textbf{  Adj. R-squared:    } &     0.342   \\\\\n",
       "\\textbf{Method:}           &  Least Squares   & \\textbf{  F-statistic:       } &     1559.   \\\\\n",
       "\\textbf{Date:}             & Sat, 12 Oct 2024 & \\textbf{  Prob (F-statistic):} & 6.84e-275   \\\\\n",
       "\\textbf{Time:}             &     22:26:33     & \\textbf{  Log-Likelihood:    } &   -19461.   \\\\\n",
       "\\textbf{No. Observations:} &        3000      & \\textbf{  AIC:               } & 3.893e+04   \\\\\n",
       "\\textbf{Df Residuals:}     &        2998      & \\textbf{  BIC:               } & 3.894e+04   \\\\\n",
       "\\textbf{Df Model:}         &           1      & \\textbf{                     } &             \\\\\n",
       "\\textbf{Covariance Type:}  &    nonrobust     & \\textbf{                     } &             \\\\\n",
       "\\bottomrule\n",
       "\\end{tabular}\n",
       "\\begin{tabular}{lcccccc}\n",
       "                  & \\textbf{coef} & \\textbf{std err} & \\textbf{t} & \\textbf{P$> |$t$|$} & \\textbf{[0.025} & \\textbf{0.975]}  \\\\\n",
       "\\midrule\n",
       "\\textbf{const}    &     133.6988  &        8.750     &    15.279  &         0.000        &      116.541    &      150.856     \\\\\n",
       "\\textbf{area\\_m2} &       4.8386  &        0.123     &    39.482  &         0.000        &        4.598    &        5.079     \\\\\n",
       "\\bottomrule\n",
       "\\end{tabular}\n",
       "\\begin{tabular}{lclc}\n",
       "\\textbf{Omnibus:}       & 206.173 & \\textbf{  Durbin-Watson:     } &    2.003  \\\\\n",
       "\\textbf{Prob(Omnibus):} &   0.000 & \\textbf{  Jarque-Bera (JB):  } &  441.379  \\\\\n",
       "\\textbf{Skew:}          &   0.448 & \\textbf{  Prob(JB):          } & 1.43e-96  \\\\\n",
       "\\textbf{Kurtosis:}      &   4.651 & \\textbf{  Cond. No.          } &     215.  \\\\\n",
       "\\bottomrule\n",
       "\\end{tabular}\n",
       "%\\caption{OLS Regression Results}\n",
       "\\end{center}\n",
       "\n",
       "Notes: \\newline\n",
       " [1] Standard Errors assume that the covariance matrix of the errors is correctly specified."
      ],
      "text/plain": [
       "<class 'statsmodels.iolib.summary.Summary'>\n",
       "\"\"\"\n",
       "                            OLS Regression Results                            \n",
       "==============================================================================\n",
       "Dep. Variable:          valor_aluguel   R-squared:                       0.342\n",
       "Model:                            OLS   Adj. R-squared:                  0.342\n",
       "Method:                 Least Squares   F-statistic:                     1559.\n",
       "Date:                Sat, 12 Oct 2024   Prob (F-statistic):          6.84e-275\n",
       "Time:                        22:26:33   Log-Likelihood:                -19461.\n",
       "No. Observations:                3000   AIC:                         3.893e+04\n",
       "Df Residuals:                    2998   BIC:                         3.894e+04\n",
       "Df Model:                           1                                         \n",
       "Covariance Type:            nonrobust                                         \n",
       "==============================================================================\n",
       "                 coef    std err          t      P>|t|      [0.025      0.975]\n",
       "------------------------------------------------------------------------------\n",
       "const        133.6988      8.750     15.279      0.000     116.541     150.856\n",
       "area_m2        4.8386      0.123     39.482      0.000       4.598       5.079\n",
       "==============================================================================\n",
       "Omnibus:                      206.173   Durbin-Watson:                   2.003\n",
       "Prob(Omnibus):                  0.000   Jarque-Bera (JB):              441.379\n",
       "Skew:                           0.448   Prob(JB):                     1.43e-96\n",
       "Kurtosis:                       4.651   Cond. No.                         215.\n",
       "==============================================================================\n",
       "\n",
       "Notes:\n",
       "[1] Standard Errors assume that the covariance matrix of the errors is correctly specified.\n",
       "\"\"\""
      ]
     },
     "execution_count": 6,
     "metadata": {},
     "output_type": "execute_result"
    }
   ],
   "source": [
    "resultado.summary()"
   ]
  },
  {
   "cell_type": "markdown",
   "metadata": {},
   "source": [
    "### Exemplo de previsão de aluguel com base nas variáveis disponíveis:"
   ]
  },
  {
   "cell_type": "code",
   "execution_count": 7,
   "metadata": {},
   "outputs": [
    {
     "name": "stderr",
     "output_type": "stream",
     "text": [
      "C:\\Users\\kauas\\AppData\\Local\\Temp\\ipykernel_18792\\3747994607.py:7: UserWarning: FigureCanvasAgg is non-interactive, and thus cannot be shown\n",
      "  figure.show()\n"
     ]
    },
    {
     "data": {
      "image/png": "[encoded data removed]",
      "text/plain": [
       "<Figure size 640x480 with 1 Axes>"
      ]
     },
     "metadata": {},
     "output_type": "display_data"
    }
   ],
   "source": [
    "figure = plt.figure()\n",
    "plt.xlabel(\"area_m2\")\n",
    "plt.ylabel(\"valor_aluguel\")\n",
    "plt.plot(X[\"area_m2\"], Y, \".\", label=\"Dados Reais\")\n",
    "plt.plot(X[\"area_m2\"], resultado.fittedvalues, \"r-\", label=\"Previsão\")\n",
    "plt.legend()\n",
    "figure.show()"
   ]
  }
 ],
 "metadata": {
  "kernelspec": {
   "display_name": "base",
   "language": "python",
   "name": "python3"
  },
  "language_info": {
   "codemirror_mode": {
    "name": "ipython",
    "version": 3
   },
   "file_extension": ".py",
   "mimetype": "text/x-python",
   "name": "python",
   "nbconvert_exporter": "python",
   "pygments_lexer": "ipython3",
   "version": "3.12.4"
  }
 },
 "nbformat": 4,
 "nbformat_minor": 2
}
